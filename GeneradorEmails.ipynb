{
 "cells": [
  {
   "cell_type": "code",
   "execution_count": 8,
   "id": "59b46290",
   "metadata": {},
   "outputs": [],
   "source": [
    "#pip install progressbar"
   ]
  },
  {
   "cell_type": "code",
   "execution_count": 9,
   "id": "fd2f516b",
   "metadata": {},
   "outputs": [
    {
     "name": "stdout",
     "output_type": "stream",
     "text": [
      "¿Cuantos emails necesitas?: 1\n"
     ]
    },
    {
     "name": "stderr",
     "output_type": "stream",
     "text": [
      "100% |########################################################################|\r"
     ]
    },
    {
     "name": "stdout",
     "output_type": "stream",
     "text": [
      "Creando el email...\n",
      "Creacion completada\n",
      "b@gmail.org\n"
     ]
    },
    {
     "name": "stderr",
     "output_type": "stream",
     "text": [
      "\n"
     ]
    }
   ],
   "source": [
    "import random\n",
    "import string\n",
    "import csv\n",
    "import progressbar\n",
    "\n",
    "\n",
    "def getcount():\n",
    "    rownums = input(\"¿Cuantos emails necesitas?: \")\n",
    "    try:\n",
    "        rowint = int(rownums)\n",
    "        return rowint\n",
    "    except ValueError:\n",
    "        print(\"Introduzca un numero\")\n",
    "        return getcount()\n",
    "\n",
    "\n",
    "'''La siguiente función crea una longitud aleatoria de correo electrónico entre 1 y 20\n",
    "longitud de caracteres y agrega dominio y extensión para dar el correo electrónico resultante'''\n",
    "\n",
    "\n",
    "def makeEmail():\n",
    "    extensions = ['com', 'net', 'org'] # pon tu extension\n",
    "    domains = [\n",
    "        'gmail', 'yahoo', 'comcast', 'hotmail',\n",
    "        'outlook'\n",
    "    ] #Pon tu dominio\n",
    "\n",
    "    finalext = extensions[random.randint(0, len(extensions) - 1)]\n",
    "    finaldom = domains[random.randint(0, len(domains) - 1)]\n",
    "\n",
    "    accountlen = random.randint(1, 20)\n",
    "\n",
    "    finalacc = ''.join(\n",
    "        random.choice(string.ascii_lowercase + string.digits)\n",
    "        for _ in range(accountlen))\n",
    "\n",
    "    finale = finalacc + \"@\" + finaldom + \".\" + finalext\n",
    "    return finale\n",
    "\n",
    "\n",
    "# Recuento total de emails\n",
    "howmany = getcount()\n",
    "counter = 0\n",
    "\n",
    "# array par aañadir emails\n",
    "emailarray = []\n",
    "\n",
    "print(\"Creando el email...\")\n",
    "\n",
    "\n",
    "prebar = progressbar.ProgressBar(maxval=int(howmany))\n",
    "\n",
    "for i in prebar(range(howmany)):\n",
    "    while counter < howmany:\n",
    "        emailarray.append(str(makeEmail()))\n",
    "        counter += 1\n",
    "        prebar.update(i)\n",
    "\n",
    "print(\"Creacion completada\")\n",
    "\n",
    "for i in emailarray:\n",
    "    print(i)"
   ]
  },
  {
   "cell_type": "code",
   "execution_count": null,
   "id": "983328e4",
   "metadata": {},
   "outputs": [],
   "source": []
  }
 ],
 "metadata": {
  "kernelspec": {
   "display_name": "Python 3",
   "language": "python",
   "name": "python3"
  },
  "language_info": {
   "codemirror_mode": {
    "name": "ipython",
    "version": 3
   },
   "file_extension": ".py",
   "mimetype": "text/x-python",
   "name": "python",
   "nbconvert_exporter": "python",
   "pygments_lexer": "ipython3",
   "version": "3.8.8"
  }
 },
 "nbformat": 4,
 "nbformat_minor": 5
}
