{
 "cells": [
  {
   "cell_type": "code",
   "execution_count": 2,
   "id": "e1727db0",
   "metadata": {},
   "outputs": [
    {
     "name": "stdout",
     "output_type": "stream",
     "text": [
      "Introduce la longitud de la contraseña: 9\n",
      "wbWoIzGDe\n"
     ]
    }
   ],
   "source": [
    "import string\n",
    "import random\n",
    "\n",
    "\n",
    "def gen():\n",
    "    s1 = string.ascii_uppercase\n",
    "    s2 = string.ascii_lowercase\n",
    "    s3 = string.digits\n",
    "    s4 = string.punctuation\n",
    "\n",
    "    passlen = int(input(\"Introduce la longitud de la contraseña: \"))\n",
    "\n",
    "    s = []\n",
    "    s.extend(list(s1))\n",
    "    s.extend(list(s2))\n",
    "    s.extend(list(s3))\n",
    "    s.extend(list(s4))\n",
    "\n",
    "    random.shuffle(s)\n",
    "    pas = (\"\".join(s[0:passlen]))\n",
    "    print(pas)\n",
    "\n",
    "\n",
    "gen()"
   ]
  },
  {
   "cell_type": "code",
   "execution_count": null,
   "id": "48956b9c",
   "metadata": {},
   "outputs": [],
   "source": []
  }
 ],
 "metadata": {
  "kernelspec": {
   "display_name": "Python 3",
   "language": "python",
   "name": "python3"
  },
  "language_info": {
   "codemirror_mode": {
    "name": "ipython",
    "version": 3
   },
   "file_extension": ".py",
   "mimetype": "text/x-python",
   "name": "python",
   "nbconvert_exporter": "python",
   "pygments_lexer": "ipython3",
   "version": "3.8.8"
  }
 },
 "nbformat": 4,
 "nbformat_minor": 5
}
